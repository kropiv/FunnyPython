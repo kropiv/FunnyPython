{
 "cells": [
  {
   "cell_type": "markdown",
   "metadata": {},
   "source": [
    "# Merry Xmas and New Year: Gift shuffling between friends\n",
    "**with funny python**\n",
    "\n",
    "* Do you have a lot of friends?\n",
    "* Do you want to give them good gifts on Xmas or New Year? $\\Rightarrow$ It could be too expensive...\n",
    "\n",
    "My friends came up with a very interesting solution: \n",
    "* One person gives only one gift to one friend, which was chosen by lot. \n",
    "* To make it more exciting: When you get a gift, you don't know from whom. \n",
    "\n",
    "What is missing:\n",
    "* You have to play the lot several times to avoid a case when you have to give a gift to yourself.\n",
    "* If there are couples, they could prefer to give gifts to a friend, but not to partner.  \n",
    "\n",
    "Let's come up with a solution.\n",
    "\n",
    "## Create list of friends and couples\n",
    "\n",
    "__Couple__ is a group of friends, who don't want to give gifts to each other in the lot. It could include from 1 to $\\infty$ persons."
   ]
  },
  {
   "cell_type": "code",
   "execution_count": 1,
   "metadata": {},
   "outputs": [
    {
     "name": "stdout",
     "output_type": "stream",
     "text": [
      "Friends list is [['David', 'Anna'], ['Masha', 'Katya', 'Daria'], ['Pasha'], ['Ivan'], ['Small mouse']]\n",
      "Lenth per couple is [2, 3, 1, 1, 1]\n",
      "Total number of couples is  5\n",
      "Total number of friends is  8\n"
     ]
    }
   ],
   "source": [
    "List = [[\"David\", \"Anna\"], \\\n",
    "        [\"Masha\", \"Katya\", \"Daria\"], \\\n",
    "        [\"Pasha\"], \\\n",
    "        [\"Ivan\"], \\\n",
    "        [\"Small mouse\"]]\n",
    "\n",
    "# List for test: you could shuffle by couples here:\n",
    "# List = [[\"David\", \"Anna\"], \\\n",
    "#         [\"Masha\", \"Katya\", \"Daria\"]]\n",
    "\n",
    "# some standard quality of the List:\n",
    "print(\"Friends list is\", List)\n",
    "len_List = [len(x) for x in List]\n",
    "print (\"Lenth per couple is\", len_List)\n",
    "print (\"Total number of couples is \", len(List))\n",
    "len_tot = sum(len_List)\n",
    "print (\"Total number of friends is \", len_tot)"
   ]
  },
  {
   "cell_type": "markdown",
   "metadata": {},
   "source": [
    "## Make indexes per friend and per couple"
   ]
  },
  {
   "cell_type": "code",
   "execution_count": 2,
   "metadata": {},
   "outputs": [
    {
     "name": "stdout",
     "output_type": "stream",
     "text": [
      "flat_List is  ['David', 'Anna', 'Masha', 'Katya', 'Daria', 'Pasha', 'Ivan', 'Small mouse']\n",
      "Indexes of flat_List is  [0, 1, 2, 3, 4, 5, 6, 7]\n",
      "Indexes of couple is     [0, 0, 1, 1, 1, 2, 3, 4]\n"
     ]
    }
   ],
   "source": [
    "import random\n",
    "flat_List = [item for sublist in List for item in sublist]\n",
    "print (\"flat_List is \", flat_List)\n",
    "indexes = [i for i,x in enumerate(flat_List)]\n",
    "print (\"Indexes of flat_List is \", indexes)\n",
    "indexes_couple = [i for i,sublist in enumerate(List) for item in sublist]\n",
    "print(\"Indexes of couple is    \", indexes_couple)"
   ]
  },
  {
   "cell_type": "markdown",
   "metadata": {},
   "source": [
    "## Shuffle gifts between friends\n",
    "* Shuffle gifts by couples: you give a gift to the person from another couple.\n",
    "* If method above is not working $\\Rightarrow$ shuffle gifts only by people: you give a gift to another person, but she/hi could be from your couple."
   ]
  },
  {
   "cell_type": "code",
   "execution_count": 3,
   "metadata": {},
   "outputs": [
    {
     "name": "stdout",
     "output_type": "stream",
     "text": [
      "Time to produce results in seconds is  0.000883\n",
      "Great! We could shuffle gifts by couples: you give a gift to the person from another couple.\n",
      "+------------------------+------------------------+\n",
      "|          Name          |   To give a gift to    |\n",
      "+------------------------+------------------------+\n",
      "|    David, couple(0)    |    Katya, couple(1)    |\n",
      "|    Anna, couple(0)     |    Ivan, couple(3)     |\n",
      "|    Masha, couple(1)    |    Anna, couple(0)     |\n",
      "|    Katya, couple(1)    |    Pasha, couple(2)    |\n",
      "|    Daria, couple(1)    | Small mouse, couple(4) |\n",
      "|    Pasha, couple(2)    |    David, couple(0)    |\n",
      "|    Ivan, couple(3)     |    Daria, couple(1)    |\n",
      "| Small mouse, couple(4) |    Masha, couple(1)    |\n",
      "+------------------------+------------------------+\n"
     ]
    }
   ],
   "source": [
    "sh_indexes = indexes[:]\n",
    "# define time now:\n",
    "from datetime import datetime\n",
    "now = datetime.now()\n",
    "# fix random seed:\n",
    "random.seed(1)\n",
    "# set time in seconds for shuffling for couples\n",
    "limit_time = len_tot*0.1 # 0.1 second per friend\n",
    "\n",
    "# Shuffle gifts by couples: you give a gift to the person from another couple.\n",
    "while any(\\\n",
    "          (indexes_couple[indexes[i]] == indexes_couple[sh_indexes[i]] and (datetime.now() - now).total_seconds() < limit_time)\\\n",
    "          for i in range(len(indexes))):\n",
    "    random.shuffle(sh_indexes)\n",
    "\n",
    "# If method above is not working -> shuffle gifts only by people: you give a gift to another person, but she/hi could be from your couple.\n",
    "if (datetime.now() - now).total_seconds() > limit_time:\n",
    "    while any(\\\n",
    "              indexes[i] == sh_indexes[i]\\\n",
    "              for i in range(len(indexes))):\n",
    "        random.shuffle(sh_indexes)\n",
    "    \n",
    "#print(\"shuffle indexes with all elements moved around\", sh_indexes)\n",
    "sh_List = [flat_List[x] for x in sh_indexes]\n",
    "sh_indexes_couple = [indexes_couple[x] for x in sh_indexes]\n",
    "#print(\"shuffle list with all elements moved around\", sh_List)\n",
    "\n",
    "later = datetime.now()\n",
    "diff = (later - now).total_seconds()\n",
    "\n",
    "print(\"Time to produce results in seconds is \", diff)\n",
    "\n",
    "from prettytable import PrettyTable\n",
    "t = PrettyTable(['Name', 'To give a gift to'])\n",
    "\n",
    "if diff > limit_time:\n",
    "    print(\"We could shuffle gifts only by people: you give a gift to another person, but she/he could be from your couple.\")\n",
    "else:\n",
    "    print(\"Great! We could shuffle gifts by couples: you give a gift to the person from another couple.\")\n",
    "for item_a, item_b, index_a, index_b in zip(flat_List, sh_List,indexes_couple, sh_indexes_couple):\n",
    "    #print(\"{} (couple {}) gives a gift to {} (couple {})\".format(item_a, index_a,item_b, index_b))\n",
    "    t.add_row([item_a+\", couple(\"+str(index_a)+\")\", item_b+\", couple(\"+str(index_b)+\")\"])\n",
    "print(t)"
   ]
  },
  {
   "cell_type": "markdown",
   "metadata": {},
   "source": [
    "# The End\n",
    "Merry Xmas and New Year!"
   ]
  }
 ],
 "metadata": {
  "kernelspec": {
   "display_name": "Python 3",
   "language": "python",
   "name": "python3"
  },
  "language_info": {
   "codemirror_mode": {
    "name": "ipython",
    "version": 3
   },
   "file_extension": ".py",
   "mimetype": "text/x-python",
   "name": "python",
   "nbconvert_exporter": "python",
   "pygments_lexer": "ipython3",
   "version": "3.7.6"
  }
 },
 "nbformat": 4,
 "nbformat_minor": 4
}
